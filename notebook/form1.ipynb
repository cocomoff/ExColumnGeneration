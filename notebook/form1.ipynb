{
 "cells": [
  {
   "cell_type": "code",
   "execution_count": 1,
   "metadata": {},
   "outputs": [],
   "source": [
    "using Random\n",
    "using JuMP\n",
    "using Cbc"
   ]
  },
  {
   "cell_type": "code",
   "execution_count": 4,
   "metadata": {},
   "outputs": [
    {
     "data": {
      "text/plain": [
       "4-element Array{Int64,1}:\n",
       " 1\n",
       " 2\n",
       " 3\n",
       " 4"
      ]
     },
     "execution_count": 4,
     "metadata": {},
     "output_type": "execute_result"
    }
   ],
   "source": [
    "B = 8\n",
    "n = 4\n",
    "s = Int[1, 3, 6, 7]\n",
    "I = collect(1:n)\n",
    "J = collect(1:n)"
   ]
  },
  {
   "cell_type": "code",
   "execution_count": 12,
   "metadata": {},
   "outputs": [
    {
     "data": {
      "text/latex": [
       "$$ \\begin{alignat*}{1}\\min\\quad & y_{1} + y_{2} + y_{3} + y_{4}\\\\\n",
       "\\text{Subject to} \\quad & x_{1,1} + x_{1,2} + x_{1,3} + x_{1,4} = 1.0\\\\\n",
       " & x_{2,1} + x_{2,2} + x_{2,3} + x_{2,4} = 1.0\\\\\n",
       " & x_{3,1} + x_{3,2} + x_{3,3} + x_{3,4} = 1.0\\\\\n",
       " & x_{4,1} + x_{4,2} + x_{4,3} + x_{4,4} = 1.0\\\\\n",
       " & x_{1,1} + 3 x_{2,1} + 6 x_{3,1} + 7 x_{4,1} - 8 y_{1} \\leq 0.0\\\\\n",
       " & x_{1,2} + 3 x_{2,2} + 6 x_{3,2} + 7 x_{4,2} - 8 y_{2} \\leq 0.0\\\\\n",
       " & x_{1,3} + 3 x_{2,3} + 6 x_{3,3} + 7 x_{4,3} - 8 y_{3} \\leq 0.0\\\\\n",
       " & x_{1,4} + 3 x_{2,4} + 6 x_{3,4} + 7 x_{4,4} - 8 y_{4} \\leq 0.0\\\\\n",
       " & x_{1,1} binary\\\\\n",
       " & x_{1,2} binary\\\\\n",
       " & x_{1,3} binary\\\\\n",
       " & x_{1,4} binary\\\\\n",
       " & x_{2,1} binary\\\\\n",
       " & x_{2,2} binary\\\\\n",
       " & x_{2,3} binary\\\\\n",
       " & x_{2,4} binary\\\\\n",
       " & x_{3,1} binary\\\\\n",
       " & x_{3,2} binary\\\\\n",
       " & x_{3,3} binary\\\\\n",
       " & x_{3,4} binary\\\\\n",
       " & x_{4,1} binary\\\\\n",
       " & x_{4,2} binary\\\\\n",
       " & x_{4,3} binary\\\\\n",
       " & x_{4,4} binary\\\\\n",
       " & y_{1} binary\\\\\n",
       " & y_{2} binary\\\\\n",
       " & y_{3} binary\\\\\n",
       " & y_{4} binary\\\\\n",
       "\\end{alignat*}\n",
       " $$"
      ],
      "text/plain": [
       "A JuMP Model\n",
       "Minimization problem with:\n",
       "Variables: 20\n",
       "Objective function type: GenericAffExpr{Float64,VariableRef}\n",
       "`GenericAffExpr{Float64,VariableRef}`-in-`MathOptInterface.EqualTo{Float64}`: 4 constraints\n",
       "`GenericAffExpr{Float64,VariableRef}`-in-`MathOptInterface.LessThan{Float64}`: 4 constraints\n",
       "`VariableRef`-in-`MathOptInterface.ZeroOne`: 20 constraints\n",
       "Model mode: AUTOMATIC\n",
       "CachingOptimizer state: EMPTY_OPTIMIZER\n",
       "Solver name: COIN Branch-and-Cut (Cbc)\n",
       "Names registered in the model: x, y"
      ]
     },
     "execution_count": 12,
     "metadata": {},
     "output_type": "execute_result"
    }
   ],
   "source": [
    "model = Model(with_optimizer(Cbc.Optimizer))\n",
    "\n",
    "@variable(model, x[i=1:n, j=1:n], Bin)\n",
    "@variable(model, y[j=1:n], Bin)\n",
    "\n",
    "for i in I\n",
    "    @constraint(model, sum(x[i, :]) == 1)\n",
    "end\n",
    "\n",
    "for j in J\n",
    "    @constraint(model, sum(s[i] * x[i, j] for i in I) ≤ B * y[j])\n",
    "end\n",
    "\n",
    "@objective(model, Min, sum(y[:]))\n",
    "\n",
    "model"
   ]
  },
  {
   "cell_type": "code",
   "execution_count": 13,
   "metadata": {},
   "outputs": [
    {
     "name": "stdout",
     "output_type": "stream",
     "text": [
      "Welcome to the CBC MILP Solver \n",
      "Version: 2.10.3 \n",
      "Build Date: Oct  7 2019 \n",
      "\n",
      "command line - Cbc_C_Interface -solve -quit (default strategy 1)\n",
      "Continuous objective value is 2.125 - 0.00 seconds\n",
      "Cgl0003I 0 fixed, 0 tightened bounds, 2 strengthened rows, 0 substitutions\n",
      "Cgl0003I 0 fixed, 0 tightened bounds, 2 strengthened rows, 0 substitutions\n",
      "Cgl0003I 0 fixed, 0 tightened bounds, 2 strengthened rows, 0 substitutions\n",
      "Cgl0003I 0 fixed, 0 tightened bounds, 2 strengthened rows, 0 substitutions\n",
      "Cgl0004I processed model has 8 rows, 20 columns (20 integer (20 of which binary)) and 36 elements\n",
      "Cbc0012I Integer solution of 4 found by DiveCoefficient after 0 iterations and 0 nodes (0.00 seconds)\n",
      "Cbc0012I Integer solution of 3 found by DiveCoefficient after 29 iterations and 0 nodes (0.00 seconds)\n",
      "Cbc0031I 5 added rows had average density of 5.8\n",
      "Cbc0013I At root node, 5 cuts changed objective from 2.75 to 3 in 5 passes\n",
      "Cbc0014I Cut generator 0 (Probing) - 18 row cuts average 2.8 elements, 0 column cuts (0 active)  in 0.000 seconds - new frequency is 1\n",
      "Cbc0014I Cut generator 1 (Gomory) - 14 row cuts average 11.9 elements, 0 column cuts (0 active)  in 0.000 seconds - new frequency is 1\n",
      "Cbc0014I Cut generator 2 (Knapsack) - 13 row cuts average 2.9 elements, 0 column cuts (0 active)  in 0.000 seconds - new frequency is 1\n",
      "Cbc0014I Cut generator 3 (Clique) - 0 row cuts average 0.0 elements, 0 column cuts (0 active)  in 0.000 seconds - new frequency is -100\n",
      "Cbc0014I Cut generator 4 (MixedIntegerRounding2) - 7 row cuts average 4.9 elements, 0 column cuts (0 active)  in 0.000 seconds - new frequency is 1\n",
      "Cbc0014I Cut generator 5 (FlowCover) - 0 row cuts average 0.0 elements, 0 column cuts (0 active)  in 0.000 seconds - new frequency is -100\n",
      "Cbc0014I Cut generator 6 (TwoMirCuts) - 23 row cuts average 9.3 elements, 0 column cuts (0 active)  in 0.000 seconds - new frequency is 1\n",
      "Cbc0001I Search completed - best objective 3, took 29 iterations and 0 nodes (0.00 seconds)\n",
      "Cbc0035I Maximum depth 0, 0 variables fixed on reduced cost\n",
      "Cuts at root node changed objective from 2.75 to 3\n",
      "Probing was tried 5 times and created 18 cuts of which 0 were active after adding rounds of cuts (0.000 seconds)\n",
      "Gomory was tried 5 times and created 14 cuts of which 0 were active after adding rounds of cuts (0.000 seconds)\n",
      "Knapsack was tried 5 times and created 13 cuts of which 0 were active after adding rounds of cuts (0.000 seconds)\n",
      "Clique was tried 5 times and created 0 cuts of which 0 were active after adding rounds of cuts (0.000 seconds)\n",
      "MixedIntegerRounding2 was tried 5 times and created 7 cuts of which 0 were active after adding rounds of cuts (0.000 seconds)\n",
      "FlowCover was tried 5 times and created 0 cuts of which 0 were active after adding rounds of cuts (0.000 seconds)\n",
      "TwoMirCuts was tried 5 times and created 23 cuts of which 0 were active after adding rounds of cuts (0.000 seconds)\n",
      "ZeroHalf was tried 1 times and created 0 cuts of which 0 were active after adding rounds of cuts (0.000 seconds)\n",
      "\n",
      "Result - Optimal solution found\n",
      "\n",
      "Objective value:                3.00000000\n",
      "Enumerated nodes:               0\n",
      "Total iterations:               29\n",
      "Time (CPU seconds):             0.00\n",
      "Time (Wallclock seconds):       0.01\n",
      "\n",
      "Total time (CPU seconds):       0.00   (Wallclock seconds):       0.01\n",
      "\n"
     ]
    }
   ],
   "source": [
    "optimize!(model)"
   ]
  },
  {
   "cell_type": "code",
   "execution_count": 23,
   "metadata": {},
   "outputs": [
    {
     "name": "stdout",
     "output_type": "stream",
     "text": [
      "3.0\n",
      "0.0 0.0 1.0 0.0 \n",
      "0.0 0.0 0.0 1.0 \n",
      "0.0 1.0 0.0 0.0 \n",
      "0.0 0.0 1.0 0.0 \n",
      "y1 = 0.0: y2 = 1.0: y3 = 1.0: y4 = 1.0: "
     ]
    }
   ],
   "source": [
    "println(objective_value(model))\n",
    "for i in I\n",
    "    for j in J\n",
    "        print(\"$(value(x[i, j])) \")\n",
    "    end\n",
    "    println()\n",
    "end\n",
    "\n",
    "for j in J\n",
    "    print(\"y$(j) = $(value(y[j])): \")\n",
    "end"
   ]
  },
  {
   "cell_type": "code",
   "execution_count": null,
   "metadata": {},
   "outputs": [],
   "source": []
  }
 ],
 "metadata": {
  "kernelspec": {
   "display_name": "Julia 1.3.0 1.3.0",
   "language": "julia",
   "name": "julia-1.3.0-1.3"
  },
  "language_info": {
   "file_extension": ".jl",
   "mimetype": "application/julia",
   "name": "julia",
   "version": "1.3.0"
  }
 },
 "nbformat": 4,
 "nbformat_minor": 4
}
