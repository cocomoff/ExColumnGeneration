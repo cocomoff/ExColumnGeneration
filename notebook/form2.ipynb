{
 "cells": [
  {
   "cell_type": "code",
   "execution_count": 3,
   "metadata": {},
   "outputs": [],
   "source": [
    "using Random\n",
    "using JuMP\n",
    "using Cbc\n",
    "using IterTools"
   ]
  },
  {
   "cell_type": "code",
   "execution_count": 12,
   "metadata": {},
   "outputs": [
    {
     "data": {
      "text/plain": [
       "4-element Array{Int64,1}:\n",
       " 1\n",
       " 2\n",
       " 3\n",
       " 4"
      ]
     },
     "execution_count": 12,
     "metadata": {},
     "output_type": "execute_result"
    }
   ],
   "source": [
    "B = 8\n",
    "n = 4\n",
    "S = Int[1, 3, 6, 7]\n",
    "I = collect(1:n)"
   ]
  },
  {
   "cell_type": "code",
   "execution_count": 86,
   "metadata": {},
   "outputs": [
    {
     "name": "stdout",
     "output_type": "stream",
     "text": [
      "ss = [1]\n",
      "ss = [2]\n",
      "ss = [1, 2]\n",
      "ss = [3]\n",
      "ss = [1, 3]\n",
      "ss = [2, 3]\n",
      "ss = [1, 2, 3]\n",
      "ss = [4]\n",
      "ss = [1, 4]\n",
      "ss = [2, 4]\n",
      "ss = [1, 2, 4]\n",
      "ss = [3, 4]\n",
      "ss = [1, 3, 4]\n",
      "ss = [2, 3, 4]\n",
      "ss = [1, 2, 3, 4]\n"
     ]
    }
   ],
   "source": [
    "for ss in subsets(I)\n",
    "    length(ss) == 0 && continue\n",
    "    @show ss\n",
    "end"
   ]
  },
  {
   "cell_type": "code",
   "execution_count": 35,
   "metadata": {},
   "outputs": [
    {
     "name": "stdout",
     "output_type": "stream",
     "text": [
      "[1] 1\n",
      "[2] 3\n",
      "[1, 2] 4\n",
      "[3] 6\n",
      "[1, 3] 7\n",
      "[4] 7\n",
      "[1, 4] 8\n"
     ]
    },
    {
     "data": {
      "text/plain": [
       "7-element Array{Int64,1}:\n",
       " 1\n",
       " 2\n",
       " 3\n",
       " 4\n",
       " 5\n",
       " 6\n",
       " 7"
      ]
     },
     "execution_count": 35,
     "metadata": {},
     "output_type": "execute_result"
    }
   ],
   "source": [
    "J = []\n",
    "for s in subsets(I)\n",
    "    length(s) == 0 && continue\n",
    "    Ws = sum(S[i] for i in s)\n",
    "    Ws > B && continue\n",
    "    println(s, \" \", Ws)\n",
    "    push!(J, s)\n",
    "end\n",
    "sort!(J, lt=(x, y) -> length(x) < length(y))\n",
    "JJ = collect(1:length(J))"
   ]
  },
  {
   "cell_type": "code",
   "execution_count": 58,
   "metadata": {},
   "outputs": [
    {
     "name": "stdout",
     "output_type": "stream",
     "text": [
      "1 [1]\n",
      "2 [2]\n",
      "3 [3]\n",
      "4 [4]\n",
      "5 [1, 2]\n",
      "6 [1, 3]\n",
      "7 [1, 4]\n"
     ]
    },
    {
     "data": {
      "text/plain": [
       "Dict{Int64,Set{Int64}} with 7 entries:\n",
       "  7 => Set(Int64[])\n",
       "  4 => Set([7, 4])\n",
       "  2 => Set([2, 5])\n",
       "  3 => Set([3, 6])\n",
       "  5 => Set(Int64[])\n",
       "  6 => Set(Int64[])\n",
       "  1 => Set([7, 5, 6, 1])"
      ]
     },
     "execution_count": 58,
     "metadata": {},
     "output_type": "execute_result"
    }
   ],
   "source": [
    "di = Dict{Int,Set{Int}}(key => Set{Int}() for key in JJ)\n",
    "for (idx, s) in enumerate(J)\n",
    "    println(idx, \" \", s)\n",
    "    for j in s\n",
    "        push!(di[j], idx)\n",
    "    end\n",
    "end\n",
    "di"
   ]
  },
  {
   "cell_type": "code",
   "execution_count": 66,
   "metadata": {},
   "outputs": [
    {
     "data": {
      "text/latex": [
       "$$ \\begin{alignat*}{1}\\min\\quad & x_{1} + x_{2} + x_{3} + x_{4} + x_{5} + x_{6} + x_{7}\\\\\n",
       "\\text{Subject to} \\quad & x_{7} + x_{4} \\geq 1.0\\\\\n",
       " & x_{2} + x_{5} \\geq 1.0\\\\\n",
       " & x_{3} + x_{6} \\geq 1.0\\\\\n",
       " & x_{7} + x_{5} + x_{6} + x_{1} \\geq 1.0\\\\\n",
       " & x_{1} binary\\\\\n",
       " & x_{2} binary\\\\\n",
       " & x_{3} binary\\\\\n",
       " & x_{4} binary\\\\\n",
       " & x_{5} binary\\\\\n",
       " & x_{6} binary\\\\\n",
       " & x_{7} binary\\\\\n",
       "\\end{alignat*}\n",
       " $$"
      ],
      "text/plain": [
       "A JuMP Model\n",
       "Minimization problem with:\n",
       "Variables: 7\n",
       "Objective function type: GenericAffExpr{Float64,VariableRef}\n",
       "`GenericAffExpr{Float64,VariableRef}`-in-`MathOptInterface.GreaterThan{Float64}`: 4 constraints\n",
       "`VariableRef`-in-`MathOptInterface.ZeroOne`: 7 constraints\n",
       "Model mode: AUTOMATIC\n",
       "CachingOptimizer state: EMPTY_OPTIMIZER\n",
       "Solver name: COIN Branch-and-Cut (Cbc)\n",
       "Names registered in the model: x"
      ]
     },
     "execution_count": 66,
     "metadata": {},
     "output_type": "execute_result"
    }
   ],
   "source": [
    "model = Model(with_optimizer(Cbc.Optimizer))\n",
    "\n",
    "@variable(model, x[j=1:length(J)], Bin)\n",
    "\n",
    "for (key, value) in di\n",
    "    length(value) == 0 && continue\n",
    "    xkey = AffExpr()\n",
    "    for v in value\n",
    "        xkey += x[v]\n",
    "    end\n",
    "    @constraint(model, xkey ≥ 1)\n",
    "end\n",
    "\n",
    "\n",
    "@objective(model, Min, sum(x[:]))\n",
    "\n",
    "model"
   ]
  },
  {
   "cell_type": "code",
   "execution_count": 67,
   "metadata": {},
   "outputs": [
    {
     "name": "stdout",
     "output_type": "stream",
     "text": [
      "Welcome to the CBC MILP Solver \n",
      "Version: 2.10.3 \n",
      "Build Date: Oct  7 2019 \n",
      "\n",
      "command line - Cbc_C_Interface -solve -quit (default strategy 1)\n",
      "Continuous objective value is 3 - 0.00 seconds\n",
      "Cgl0004I processed model has 4 rows, 7 columns (7 integer (7 of which binary)) and 10 elements\n",
      "Cbc0012I Integer solution of 3 found by DiveCoefficient after 0 iterations and 0 nodes (0.00 seconds)\n",
      "Cbc0001I Search completed - best objective 3, took 0 iterations and 0 nodes (0.00 seconds)\n",
      "Cbc0035I Maximum depth 0, 0 variables fixed on reduced cost\n",
      "Cuts at root node changed objective from 3 to 3\n",
      "Probing was tried 0 times and created 0 cuts of which 0 were active after adding rounds of cuts (0.000 seconds)\n",
      "Gomory was tried 0 times and created 0 cuts of which 0 were active after adding rounds of cuts (0.000 seconds)\n",
      "Knapsack was tried 0 times and created 0 cuts of which 0 were active after adding rounds of cuts (0.000 seconds)\n",
      "Clique was tried 0 times and created 0 cuts of which 0 were active after adding rounds of cuts (0.000 seconds)\n",
      "MixedIntegerRounding2 was tried 0 times and created 0 cuts of which 0 were active after adding rounds of cuts (0.000 seconds)\n",
      "FlowCover was tried 0 times and created 0 cuts of which 0 were active after adding rounds of cuts (0.000 seconds)\n",
      "TwoMirCuts was tried 0 times and created 0 cuts of which 0 were active after adding rounds of cuts (0.000 seconds)\n",
      "ZeroHalf was tried 0 times and created 0 cuts of which 0 were active after adding rounds of cuts (0.000 seconds)\n",
      "\n",
      "Result - Optimal solution found\n",
      "\n",
      "Objective value:                3.00000000\n",
      "Enumerated nodes:               0\n",
      "Total iterations:               0\n",
      "Time (CPU seconds):             0.00\n",
      "Time (Wallclock seconds):       0.00\n",
      "\n",
      "Total time (CPU seconds):       0.00   (Wallclock seconds):       0.00\n",
      "\n"
     ]
    }
   ],
   "source": [
    "optimize!(model)"
   ]
  },
  {
   "cell_type": "code",
   "execution_count": 69,
   "metadata": {},
   "outputs": [
    {
     "name": "stdout",
     "output_type": "stream",
     "text": [
      "1:0.0\n",
      "2:1.0\n",
      "3:1.0\n",
      "4:0.0\n",
      "5:0.0\n",
      "6:0.0\n",
      "7:1.0\n"
     ]
    }
   ],
   "source": [
    "for i in JJ\n",
    "    println(i, \":\", value(x[i]))\n",
    "end"
   ]
  },
  {
   "cell_type": "markdown",
   "metadata": {},
   "source": [
    "## 緩和問題"
   ]
  },
  {
   "cell_type": "code",
   "execution_count": 76,
   "metadata": {},
   "outputs": [
    {
     "data": {
      "text/latex": [
       "$$ \\begin{alignat*}{1}\\min\\quad & x_{1} + x_{2} + x_{3} + x_{4} + x_{5} + x_{6} + x_{7}\\\\\n",
       "\\text{Subject to} \\quad & x_{7} + x_{4} \\geq 1.0\\\\\n",
       " & x_{2} + x_{5} \\geq 1.0\\\\\n",
       " & x_{3} + x_{6} \\geq 1.0\\\\\n",
       " & x_{7} + x_{5} + x_{6} + x_{1} \\geq 1.0\\\\\n",
       " & x_{1} \\geq 0.0\\\\\n",
       " & x_{2} \\geq 0.0\\\\\n",
       " & x_{3} \\geq 0.0\\\\\n",
       " & x_{4} \\geq 0.0\\\\\n",
       " & x_{5} \\geq 0.0\\\\\n",
       " & x_{6} \\geq 0.0\\\\\n",
       " & x_{7} \\geq 0.0\\\\\n",
       "\\end{alignat*}\n",
       " $$"
      ],
      "text/plain": [
       "A JuMP Model\n",
       "Minimization problem with:\n",
       "Variables: 7\n",
       "Objective function type: GenericAffExpr{Float64,VariableRef}\n",
       "`GenericAffExpr{Float64,VariableRef}`-in-`MathOptInterface.GreaterThan{Float64}`: 4 constraints\n",
       "`VariableRef`-in-`MathOptInterface.GreaterThan{Float64}`: 7 constraints\n",
       "Model mode: AUTOMATIC\n",
       "CachingOptimizer state: EMPTY_OPTIMIZER\n",
       "Solver name: COIN Branch-and-Cut (Cbc)\n",
       "Names registered in the model: x"
      ]
     },
     "execution_count": 76,
     "metadata": {},
     "output_type": "execute_result"
    }
   ],
   "source": [
    "model = Model(with_optimizer(Cbc.Optimizer))\n",
    "\n",
    "@variable(model, x[j=1:length(J)] ≥ 0)\n",
    "\n",
    "for (key, value) in di\n",
    "    length(value) == 0 && continue\n",
    "    xkey = AffExpr()\n",
    "    for v in value\n",
    "        xkey += x[v]\n",
    "    end\n",
    "    @constraint(model, xkey ≥ 1)\n",
    "end\n",
    "\n",
    "\n",
    "@objective(model, Min, sum(x[:]))\n",
    "model"
   ]
  },
  {
   "cell_type": "code",
   "execution_count": 77,
   "metadata": {},
   "outputs": [
    {
     "name": "stdout",
     "output_type": "stream",
     "text": [
      "Welcome to the CBC MILP Solver \n",
      "Version: 2.10.3 \n",
      "Build Date: Oct  7 2019 \n",
      "\n",
      "command line - Cbc_C_Interface -solve -quit (default strategy 1)\n",
      "Presolve 4 (0) rows, 7 (0) columns and 10 (0) elements\n",
      "Perturbing problem by 0.001% of 1 - largest nonzero change 7.9234384e-06 ( 0.00079234384%) - largest zero change 0\n",
      "0  Obj 0 Primal inf 3.9999996 (4)\n",
      "4  Obj 3.0000069\n",
      "Optimal - objective value 3\n",
      "Optimal objective 3 - 4 iterations time 0.002\n",
      "Total time (CPU seconds):       0.00   (Wallclock seconds):       0.00\n",
      "\n"
     ]
    }
   ],
   "source": [
    "optimize!(model)"
   ]
  },
  {
   "cell_type": "code",
   "execution_count": 78,
   "metadata": {},
   "outputs": [
    {
     "data": {
      "text/plain": [
       "3.0"
      ]
     },
     "execution_count": 78,
     "metadata": {},
     "output_type": "execute_result"
    }
   ],
   "source": [
    "objective_value(model)"
   ]
  },
  {
   "cell_type": "markdown",
   "metadata": {},
   "source": [
    "## 緩和問題 (1-3)"
   ]
  },
  {
   "cell_type": "code",
   "execution_count": 81,
   "metadata": {},
   "outputs": [
    {
     "data": {
      "text/latex": [
       "$$ \\begin{alignat*}{1}\\min\\quad & x_{1} + x_{2} + x_{3} + x_{4} + x_{5} + x_{6} + x_{7}\\\\\n",
       "\\text{Subject to} \\quad & x_{7} + x_{4} \\geq 1.0\\\\\n",
       " & x_{2} + x_{5} \\geq 1.0\\\\\n",
       " & x_{3} + x_{6} \\geq 1.0\\\\\n",
       " & x_{7} + x_{5} + x_{6} + x_{1} \\geq 1.0\\\\\n",
       " & x_{1} \\geq 0.0\\\\\n",
       " & x_{2} \\geq 0.0\\\\\n",
       " & x_{3} \\geq 0.0\\\\\n",
       " & x_{4} \\geq 0.0\\\\\n",
       " & x_{5} \\geq 0.0\\\\\n",
       " & x_{6} \\geq 0.0\\\\\n",
       " & x_{7} \\geq 0.0\\\\\n",
       " & x_{1} \\leq 1.0\\\\\n",
       " & x_{2} \\leq 1.0\\\\\n",
       " & x_{3} \\leq 1.0\\\\\n",
       " & x_{4} \\leq 1.0\\\\\n",
       " & x_{5} \\leq 1.0\\\\\n",
       " & x_{6} \\leq 1.0\\\\\n",
       " & x_{7} \\leq 1.0\\\\\n",
       "\\end{alignat*}\n",
       " $$"
      ],
      "text/plain": [
       "A JuMP Model\n",
       "Minimization problem with:\n",
       "Variables: 7\n",
       "Objective function type: GenericAffExpr{Float64,VariableRef}\n",
       "`GenericAffExpr{Float64,VariableRef}`-in-`MathOptInterface.GreaterThan{Float64}`: 4 constraints\n",
       "`VariableRef`-in-`MathOptInterface.GreaterThan{Float64}`: 7 constraints\n",
       "`VariableRef`-in-`MathOptInterface.LessThan{Float64}`: 7 constraints\n",
       "Model mode: AUTOMATIC\n",
       "CachingOptimizer state: EMPTY_OPTIMIZER\n",
       "Solver name: COIN Branch-and-Cut (Cbc)\n",
       "Names registered in the model: x"
      ]
     },
     "execution_count": 81,
     "metadata": {},
     "output_type": "execute_result"
    }
   ],
   "source": [
    "model = Model(with_optimizer(Cbc.Optimizer))\n",
    "\n",
    "@variable(model, 1 >= x[j=1:length(J)] >= 0)\n",
    "\n",
    "for (key, value) in di\n",
    "    length(value) == 0 && continue\n",
    "    xkey = AffExpr()\n",
    "    for v in value\n",
    "        xkey += x[v]\n",
    "    end\n",
    "    @constraint(model, xkey ≥ 1)\n",
    "end\n",
    "\n",
    "\n",
    "@objective(model, Min, sum(x[:]))\n",
    "model"
   ]
  },
  {
   "cell_type": "code",
   "execution_count": 82,
   "metadata": {},
   "outputs": [
    {
     "name": "stdout",
     "output_type": "stream",
     "text": [
      "Welcome to the CBC MILP Solver \n",
      "Version: 2.10.3 \n",
      "Build Date: Oct  7 2019 \n",
      "\n",
      "command line - Cbc_C_Interface -solve -quit (default strategy 1)\n",
      "Presolve 4 (0) rows, 7 (0) columns and 10 (0) elements\n",
      "Perturbing problem by 0.001% of 1 - largest nonzero change 7.9234384e-06 ( 0.00079234384%) - largest zero change 0\n",
      "0  Obj 0 Primal inf 3.9999996 (4)\n",
      "4  Obj 3.0000069\n",
      "Optimal - objective value 3\n",
      "Optimal objective 3 - 4 iterations time 0.002\n",
      "Total time (CPU seconds):       0.00   (Wallclock seconds):       0.00\n",
      "\n"
     ]
    }
   ],
   "source": [
    "optimize!(model)"
   ]
  },
  {
   "cell_type": "code",
   "execution_count": 83,
   "metadata": {},
   "outputs": [
    {
     "data": {
      "text/plain": [
       "3.0"
      ]
     },
     "execution_count": 83,
     "metadata": {},
     "output_type": "execute_result"
    }
   ],
   "source": [
    "objective_value(model)"
   ]
  },
  {
   "cell_type": "code",
   "execution_count": null,
   "metadata": {},
   "outputs": [],
   "source": []
  }
 ],
 "metadata": {
  "kernelspec": {
   "display_name": "Julia 1.3.0 1.3.0",
   "language": "julia",
   "name": "julia-1.3.0-1.3"
  },
  "language_info": {
   "file_extension": ".jl",
   "mimetype": "application/julia",
   "name": "julia",
   "version": "1.3.0"
  }
 },
 "nbformat": 4,
 "nbformat_minor": 4
}
